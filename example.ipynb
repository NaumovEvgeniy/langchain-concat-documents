{
 "cells": [
  {
   "cell_type": "code",
   "id": "initial_id",
   "metadata": {
    "collapsed": true,
    "ExecuteTime": {
     "end_time": "2024-09-10T15:13:36.552704Z",
     "start_time": "2024-09-10T15:13:36.546178Z"
    }
   },
   "source": [
    "from langchain_community.document_loaders import JSONLoader\n",
    "from langchain_text_splitters import RecursiveCharacterTextSplitter\n",
    "\n",
    "def metadata_func(record: dict, metadata: dict) -> dict:\n",
    "    return {\n",
    "        'id': record.get('id')\n",
    "    }\n",
    "\n",
    "document = JSONLoader(\n",
    "    'data.json',\n",
    "    jq_schema='.[]',\n",
    "    content_key = \"description\",\n",
    "    metadata_func = metadata_func\n",
    ").load()\n",
    "documents = RecursiveCharacterTextSplitter(chunk_size=1000).split_documents(document)\n",
    "print('Documents size: ', len(documents))"
   ],
   "outputs": [
    {
     "name": "stdout",
     "output_type": "stream",
     "text": [
      "Documents size:  4\n"
     ]
    }
   ],
   "execution_count": 18
  },
  {
   "metadata": {},
   "cell_type": "markdown",
   "source": "After split, I need to make embeddings for each document. After it,  vector store will contain 4 separated document with unique vector. When I do `some_vector_store.similarity_search_with_score('query')` I can get irrelevant items",
   "id": "f26fd4683f6b06c9"
  }
 ],
 "metadata": {
  "kernelspec": {
   "display_name": "Python 3",
   "language": "python",
   "name": "python3"
  },
  "language_info": {
   "codemirror_mode": {
    "name": "ipython",
    "version": 2
   },
   "file_extension": ".py",
   "mimetype": "text/x-python",
   "name": "python",
   "nbconvert_exporter": "python",
   "pygments_lexer": "ipython2",
   "version": "2.7.6"
  }
 },
 "nbformat": 4,
 "nbformat_minor": 5
}
